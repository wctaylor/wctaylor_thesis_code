{
 "cells": [
  {
   "cell_type": "markdown",
   "id": "greatest-disability",
   "metadata": {},
   "source": [
    "# Imports and Definitions"
   ]
  },
  {
   "cell_type": "code",
   "execution_count": 1,
   "id": "rotary-harrison",
   "metadata": {},
   "outputs": [],
   "source": [
    "import os\n",
    "import glob\n",
    "import json\n",
    "import requests\n",
    "\n",
    "import uproot\n",
    "import numpy as np\n",
    "import awkward as ak\n",
    "import scipy.interpolate\n",
    "import matplotlib as mpl\n",
    "import matplotlib.ticker\n",
    "import matplotlib.pyplot as plt\n",
    "\n",
    "import thesis.config\n",
    "import thesis.isotopes\n",
    "import thesis.constants\n",
    "import thesis.analysis as ta"
   ]
  },
  {
   "cell_type": "code",
   "execution_count": 2,
   "id": "objective-summer",
   "metadata": {},
   "outputs": [],
   "source": [
    "use_tex = False\n",
    "if (use_tex):\n",
    "    thesis.config.use_tex()\n",
    "else:\n",
    "    thesis.config.use_inline()\n",
    "config_file_path = \"/users/wctaylor/wctaylor_thesis_code/config/example_config.json\"\n",
    "thesis.config.config_env(config_file_path)\n",
    "FIG_DPI=450"
   ]
  },
  {
   "cell_type": "code",
   "execution_count": 3,
   "id": "nearby-group",
   "metadata": {},
   "outputs": [],
   "source": [
    "def get_endf_cross_section(filepath):\n",
    "    \"\"\"\n",
    "    Get cross section vs energy points from ENDF/B-VII.1 data files\n",
    "    \n",
    "    Parameters\n",
    "    ----------\n",
    "    filepath: str\n",
    "        Path to the cross section data file\n",
    "        \n",
    "    Returns\n",
    "    -------\n",
    "    cross_section_data: dict\n",
    "        A dict containing the cross section vs energy points from the file\n",
    "    \"\"\"\n",
    "    with open(filepath, \"r\") as data_file:\n",
    "        data = data_file.readlines()\n",
    "    temp     = data[0].split()\n",
    "    library  = temp[1].strip()\n",
    "    temp     = temp[0].split(\"(\")\n",
    "    iso      = temp[0].split(\"-\")\n",
    "    isotope  = f\"$^{{{iso[2]}}}${iso[1]}\"\n",
    "    reaction = f\"({temp[1]}\"\n",
    "    if (reaction == \"(n,&gamma;)\"):\n",
    "        reaction = \"$(n, \\gamma)$\"\n",
    "            \n",
    "    energy_eV       = np.zeros(len(data[1:]))\n",
    "    cross_section_b = np.zeros(len(data[1:]))\n",
    "    for i in range(1, len(data)):\n",
    "        temp = data[i].split(\",\")    \n",
    "        energy_eV[i-1]       = float(temp[0])\n",
    "        cross_section_b[i-1] = float(temp[1])\n",
    "    \n",
    "    cross_section_data = \\\n",
    "    {\n",
    "        \"energy_eV\": energy_eV,\n",
    "        \"cross_section_b\": cross_section_b\n",
    "    }\n",
    "    \n",
    "    return cross_section_data"
   ]
  },
  {
   "cell_type": "code",
   "execution_count": 4,
   "id": "played-commercial",
   "metadata": {},
   "outputs": [],
   "source": [
    "def get_ngatlas_cross_section(filepath):\n",
    "    \"\"\"\n",
    "    Get cross section vs energy points from NGATLAS data files\n",
    "    \n",
    "    Parameters\n",
    "    ----------\n",
    "    filepath: str\n",
    "        Path to the cross section data file\n",
    "        \n",
    "    Returns\n",
    "    -------\n",
    "    cross_section_data: dict\n",
    "        A dict containing the cross section vs energy points from the file\n",
    "    \"\"\"\n",
    "    NAME_BEGIN = \"#name:\"\n",
    "    DATA_BEGIN = \"#data...\"\n",
    "    DATA_END = \"//\"\n",
    "    \n",
    "    with open(filepath, \"r\") as data_file:\n",
    "        data = data_file.readlines()\n",
    "    \n",
    "    data_found = False\n",
    "    data_start_index = -1\n",
    "    data_end_index = -1\n",
    "    for i in range(len(data)):\n",
    "        if (data[i].startswith(NAME_BEGIN)):\n",
    "            reaction = data[i].split()[1].split(\"-\")[1]\n",
    "            if (reaction == \"102\" or reaction == \"402\"):\n",
    "                data_found = True\n",
    "        if (data_found):\n",
    "            if (data[i].startswith(DATA_BEGIN)):\n",
    "                axes = data[i + 1]\n",
    "                units = data[i + 2]\n",
    "                data_start_index = i + 3\n",
    "            if (data[i].startswith(DATA_END)):\n",
    "                data_end_index = i\n",
    "    energy_eV       = np.zeros(len(data[data_start_index:data_end_index]))\n",
    "    cross_section_b = np.zeros(len(data[data_start_index:data_end_index]))\n",
    "    for i in range(data_start_index, data_end_index):\n",
    "        temp = data[i].split()\n",
    "        energy_eV[i - data_start_index]       = float(temp[0])\n",
    "        cross_section_b[i - data_start_index] = float(temp[1])\n",
    "    \n",
    "    cross_section_data = \\\n",
    "    {\n",
    "        \"energy_eV\": energy_eV*1e6, # data provided in MeV\n",
    "        \"cross_section_b\": cross_section_b\n",
    "    }\n",
    "    \n",
    "    return cross_section_data"
   ]
  },
  {
   "cell_type": "code",
   "execution_count": 5,
   "id": "further-louisiana",
   "metadata": {},
   "outputs": [],
   "source": [
    "def get_cross_section_data(library, filepath):\n",
    "    \"\"\"\n",
    "    Get cross section vs energy points for an isotope and reaction\n",
    "    \n",
    "    Parameters\n",
    "    ----------\n",
    "    library: str\n",
    "        Which cross section library is being used\n",
    "    filepath: str\n",
    "        Path to the cross section data file\n",
    "        \n",
    "    Returns\n",
    "    -------\n",
    "    cross_section_data: dict\n",
    "        A dict containing the cross section vs energy points for\n",
    "        the input reaction and isotope\n",
    "    \"\"\"    \n",
    "    if (library == \"ENDF/B-VII.1\"):\n",
    "        data = get_endf_cross_section(filepath)\n",
    "    elif (library == \"NGATLAS\"):\n",
    "        data = get_ngatlas_cross_section(filepath)\n",
    "    else:\n",
    "        raise ValueError(f\"{library} is not a supported library.\")\n",
    "    \n",
    "    return data\n",
    "    "
   ]
  },
  {
   "cell_type": "code",
   "execution_count": 6,
   "id": "unknown-german",
   "metadata": {},
   "outputs": [],
   "source": [
    "def interpolate_cross_section_data(cross_section_data, kind=\"linear\"):\n",
    "    \"\"\"\n",
    "    Generate additional data points within the provided cross section data\n",
    "    via interpolation. \n",
    "    Useful for averaging\n",
    "    \n",
    "    Parameters\n",
    "    ----------\n",
    "    cross_section_data: dict\n",
    "         A dict containing the cross section vs energy points for\n",
    "    the input reaction and isotope\n",
    "    \"\"\"\n",
    "    energy_eV = cross_section_data[\"energy_eV\"]\n",
    "    cross_section_b = cross_section_data[\"cross_section_b\"]\n",
    "    \n",
    "    values, indices, counts = np.unique(energy_eV, \n",
    "                                        return_index=True, \n",
    "                                        return_counts=True)\n",
    "    duplicates = values[counts > 1]\n",
    "    \n",
    "    new_E = energy_eV[indices]\n",
    "    new_xs = cross_section_b[indices]\n",
    "    for duplicate in duplicates:\n",
    "        cut_dupe = (energy_eV == duplicate)\n",
    "        avg_xs = np.sum(cross_section_b[cut_dupe])/len(cross_section_b[cut_dupe])\n",
    "        new_index = (new_E == duplicate)\n",
    "        new_xs[new_index] = avg_xs\n",
    "    interpolation = scipy.interpolate.interp1d(new_E,\n",
    "                                               new_xs,\n",
    "                                               kind=kind,\n",
    "                                               fill_value=\"extrapolate\")\n",
    "    return interpolation\n",
    "\n"
   ]
  },
  {
   "cell_type": "code",
   "execution_count": 7,
   "id": "dressed-string",
   "metadata": {},
   "outputs": [],
   "source": [
    "def get_averaged_cross_section_data(cross_section_data, bin_range=None,\n",
    "                                    num_bins=100, num_interpolation_bins=1000):\n",
    "    energy_eV       = cross_section_data[\"energy_eV\"]\n",
    "    cross_section_b = cross_section_data[\"cross_section_b\"]\n",
    "    \n",
    "    if (bin_range is None):\n",
    "        bin_range = [np.min(energy_eV), np.max(energy_eV)]\n",
    "    bins  = np.logspace(np.log10(bin_range[0]), \n",
    "                        np.log10(bin_range[1]), \n",
    "                        num_bins)\n",
    "    interpolation_bins = np.logspace(np.log10(bin_range[0]),\n",
    "                                     np.log10(bin_range[1]),\n",
    "                                     num_interpolation_bins)\n",
    "    interpolation = interpolate_cross_section_data(cross_section_data)\n",
    "    interpolated_cross_sections = interpolation(interpolation_bins)\n",
    "\n",
    "    data = np.zeros_like(bins)\n",
    "    for index in range(len(bins)):\n",
    "        if (index == (len(bins)-1)):\n",
    "            cut_energy = (interpolation_bins >= bins[index])\n",
    "        else:\n",
    "            cut_energy = (  (interpolation_bins >= bins[index]) \n",
    "                          * (interpolation_bins < bins[index+1])  )\n",
    "\n",
    "        energies = interpolation_bins[cut_energy]\n",
    "        if (len(energies) > 0):\n",
    "            cross_sections = interpolated_cross_sections[cut_energy]\n",
    "            avg = np.sum(cross_sections)/len(cross_sections)\n",
    "            data[index] = avg\n",
    "        else:\n",
    "            continue\n",
    "\n",
    "    avg_data = \\\n",
    "    {\n",
    "        \"energy_eV\": bins,\n",
    "        \"cross_section_b\": data\n",
    "    }\n",
    "\n",
    "    return avg_data"
   ]
  },
  {
   "cell_type": "code",
   "execution_count": 8,
   "id": "democratic-valve",
   "metadata": {},
   "outputs": [],
   "source": [
    "def plot_cross_section_data(cross_section_data, \n",
    "                            xlim=None, ylim=None, filename=None):\n",
    "    isotope         = cross_section_data[\"isotope\"]\n",
    "    reaction        = cross_section_data[\"reaction\"]\n",
    "    library         = cross_section_data[\"library\"]\n",
    "    energy_eV       = cross_section_data[\"energy_eV\"]\n",
    "    cross_section_b = cross_section_data[\"cross_section_b\"]\n",
    "    \n",
    "    fig, axes = plt.subplots()\n",
    "    plt.plot(energy_eV, cross_section_b)\n",
    "    axes.set_xlabel(\"Energy [eV]\")\n",
    "    axes.set_xscale(\"log\")\n",
    "    if (xlim is not None):\n",
    "        axes.set_xlim(xlim)\n",
    "    axes.set_ylabel(\"Cross Section [b]\")\n",
    "    axes.set_yscale(\"log\")\n",
    "    if (ylim is not None):\n",
    "        axes.set_ylim(ylim)\n",
    "    axes.set_title(f\"{isotope} {reaction} Cross Section\\n\"\n",
    "                   f\"Library: {library}\")\n",
    "    \n",
    "    if (filename is not None):\n",
    "        plt.savefig(filename, dpi=FIG_DPI)\n",
    "    \n",
    "    plt.show()"
   ]
  },
  {
   "cell_type": "code",
   "execution_count": 9,
   "id": "partial-aside",
   "metadata": {},
   "outputs": [],
   "source": [
    "def get_XeBox_size_mm(header):\n",
    "    dim = None\n",
    "    unit = None\n",
    "    \n",
    "    commands = ak.to_list(header[\"sInputCommands\"].array())\n",
    "    commands = commands[0].split(\"\\n\")\n",
    "    \n",
    "    xebox_selected = False\n",
    "    for command in commands:\n",
    "        if (command == \"/Bacc/detector/select XeBox\"):\n",
    "            xebox_selected = True\n",
    "        if (command.startswith(\"/XeBox/setBoxSize\")):\n",
    "            dim  = command.split()[1]\n",
    "            unit = command.split()[2]\n",
    "    if not (xebox_selected):\n",
    "        raise ValueError(\"Can't obtain XeBox size \"\n",
    "                         \"from non-XeBox geometry simulation.\")\n",
    "    # XeBox geometry has a default size of 1 m\n",
    "    if ((dim is None) and (unit is None)):\n",
    "        dim = 1\n",
    "        unit = \"m\"\n",
    "    else:\n",
    "        dim = float(dim)\n",
    "        if   (unit == \"m\"):\n",
    "            return dim*1000\n",
    "        elif (unit == \"dm\"):\n",
    "            return dim*100\n",
    "        elif (unit == \"cm\"):\n",
    "            return dim*10\n",
    "        elif (unit == \"mm\"):\n",
    "            return dim\n",
    "        elif (unit == \"um\"):\n",
    "            return dim/1000\n",
    "        elif (unit == \"nm\"):\n",
    "            return dim/1000000\n",
    "        else:\n",
    "            raise ValueError(\"Unsupported units in macro\")"
   ]
  },
  {
   "cell_type": "code",
   "execution_count": 10,
   "id": "quiet-association",
   "metadata": {},
   "outputs": [],
   "source": [
    "def get_decay_spectrum(filepath, fields, aliases, metastable=False):\n",
    "    with uproot.open(filepath) as root_file:\n",
    "        header = root_file[\"HeaderTree\"]\n",
    "        events = root_file[\"DataTree\"]\n",
    "        arrays = events.arrays(fields, aliases=aliases)\n",
    "        cut_track_electron  = (arrays[\"track_particle_ids\"] == ELECTRON_ID)\n",
    "        cut_track_gamma     = (arrays[\"track_particle_ids\"] == GAMMA_ID)\n",
    "        cut_track_decay     = (arrays[\"track_processes\"] == \"RadioactiveDecay\")\n",
    "        cut_track_primary   = (arrays[\"track_processes\"] == \"primary\")\n",
    "        \n",
    "        cut_step_electron   = ta.track_to_step(cut_track_electron, \n",
    "                                               arrays[\"step_track_indices\"])\n",
    "        cut_step_gamma      = ta.track_to_step(cut_track_gamma, arrays[\"step_track_indices\"])\n",
    "        cut_step_creation   = (arrays[\"step_processes\"] == \"Creation\")\n",
    "        cut_step_from_decay = ta.track_to_step(cut_track_decay, \n",
    "                                               arrays[\"step_track_indices\"])\n",
    "        cut_step_primary    = ta.track_to_step(cut_track_primary,\n",
    "                                               arrays[\"step_track_indices\"])\n",
    "\n",
    "        # The size is the length, L,  of an edge of the cube,\n",
    "        # but the coordinates run from -L/2 to +L/2\n",
    "        xeblock_size_mm     = get_XeBox_size_mm(header)\n",
    "        cut_step_fiducial   = (  (  np.abs(arrays[\"step_x_mm\"]) \n",
    "                                  < 0.9*(xeblock_size_mm/2)  )\n",
    "                               * (  np.abs(arrays[\"step_y_mm\"]) \n",
    "                                  < 0.9*(xeblock_size_mm/2)  )\n",
    "                               * (  np.abs(arrays[\"step_z_mm\"]) \n",
    "                                  < 0.9*(xeblock_size_mm/2)  )  )\n",
    "\n",
    "\n",
    "        if (metastable):\n",
    "            cut = (  cut_step_creation\n",
    "                   * cut_step_primary\n",
    "                   * cut_step_fiducial)\n",
    "            num_decays = ak.sum(ak.any(cut_step_primary*cut_step_fiducial, \n",
    "                                       axis=1))\n",
    "        else:\n",
    "            # Gamma + Electron Creation Energies within a Fiducial Region\n",
    "            cut = (  cut_step_creation\n",
    "                   * np.logical_or(cut_step_gamma, cut_step_electron)\n",
    "                   * cut_step_from_decay \n",
    "                   * cut_step_fiducial  )\n",
    "            num_decays = ak.sum(ak.any(cut_step_creation*cut_step_fiducial, \n",
    "                                       axis=1))\n",
    "        \n",
    "        E_flat = ak.to_numpy(ak.flatten(ak.sum(arrays[\"step_energy_keV\"][cut], \n",
    "                                       axis=1, mask_identity=True), \n",
    "                                axis=0))\n",
    "    return num_decays, E_flat"
   ]
  },
  {
   "cell_type": "markdown",
   "id": "amended-desperate",
   "metadata": {
    "jp-MarkdownHeadingCollapsed": true,
    "tags": []
   },
   "source": [
    "# Cross Sections"
   ]
  },
  {
   "cell_type": "code",
   "execution_count": 9,
   "id": "understood-northern",
   "metadata": {},
   "outputs": [],
   "source": [
    "figure_dir = os.environ[\"FIGURE_DIR\"]\n",
    "NUM_BINS = 70\n",
    "NUM_INTERPOLATION_BINS=1000*NUM_BINS\n",
    "LOWER_BOUND_X = 1e-2\n",
    "UPPER_BOUND_X = 2e7\n",
    "LOWER_BOUND_Y = 1e-6\n",
    "\n",
    "for isotope, isotope_data in thesis.isotopes.ISOTOPES.items():\n",
    "    \n",
    "    if (len(isotope_data[\"parents\"]) == 0):\n",
    "        continue\n",
    "    \n",
    "    fig, axis = plt.subplots(figsize=(6,6))\n",
    "\n",
    "    do_plot = False\n",
    "    lower_bound_y = None\n",
    "    \n",
    "    for pair in isotope_data[\"parents\"]:\n",
    "        for parent, process in pair.items():\n",
    "            production_data = thesis.isotopes.ISOTOPES[parent][\"processes\"][process]\n",
    "            production_data = production_data[\"children\"][isotope]\n",
    "            if (\"cross_sections\" in production_data):\n",
    "                for library, filename in production_data[\"cross_sections\"].items():                    \n",
    "                    if (filename is None):\n",
    "                        continue\n",
    "                    else:\n",
    "                        if (library == \"ENDF/B-VII.1\"):\n",
    "                            lib = \"endf\"\n",
    "                        if (library == \"NGATLAS\"):\n",
    "                            lib = \"ngatlas\"\n",
    "                        data_path = f'{os.environ[\"CROSS_SECTION_DATA_DIR\"]}/{lib}'\n",
    "                        filepath = f\"{data_path}/{filename}\"\n",
    "                        cross_section_data = get_cross_section_data(library, filepath)\n",
    "\n",
    "                        do_plot = True\n",
    "                        cut = (cross_section_data[\"cross_section_b\"] != 0)\n",
    "                        if (np.min(cross_section_data[\"cross_section_b\"][cut]) < LOWER_BOUND_Y):\n",
    "                            lower_bound_y = LOWER_BOUND_Y\n",
    "                        avg_data = get_averaged_cross_section_data(cross_section_data,\n",
    "                                                                   bin_range=(LOWER_BOUND_X, \n",
    "                                                                              UPPER_BOUND_X), \n",
    "                                                                   num_bins=NUM_BINS,\n",
    "                                                                   num_interpolation_bins=NUM_INTERPOLATION_BINS)\n",
    "                        cut = (avg_data[\"cross_section_b\"] != 0)\n",
    "                        if (np.min(avg_data[\"cross_section_b\"][cut]) < LOWER_BOUND_Y):\n",
    "                            lower_bound_y = LOWER_BOUND_Y\n",
    "                        if (process == \"nCapture\"):\n",
    "                            reaction = \"$(n, \\gamma)$\"\n",
    "                            parent_label = thesis.isotopes.ISOTOPES[parent][\"label\"]\n",
    "                            isotope_label = thesis.isotopes.ISOTOPES[isotope][\"label\"]\n",
    "                        elif (process == \"neutronInelastic\"):\n",
    "                            reaction = \"$(n, n')$\"\n",
    "                            parent_label = thesis.isotopes.ISOTOPES[parent][\"label\"]\n",
    "                            isotope_label = parent_label\n",
    "                        label = f\"{parent_label}{reaction}{isotope_label}  {library}\"\n",
    "                        axis.plot(cross_section_data[\"energy_eV\"], \n",
    "                                  cross_section_data[\"cross_section_b\"],\n",
    "                                  label=label)\n",
    "                        axis.step(avg_data[\"energy_eV\"], \n",
    "                                 avg_data[\"cross_section_b\"], \n",
    "                                 where=\"post\",\n",
    "                                 linestyle=\"--\",\n",
    "                                 label=f\"Averaged {label}\")\n",
    "    if (do_plot):\n",
    "        axis.set_xlabel(\"Energy [eV]\")\n",
    "        axis.set_ylabel(\"Cross Section [b]\")\n",
    "        axis.set_xscale(\"log\")\n",
    "        axis.set_yscale(\"log\")\n",
    "        axis.set_xlim([LOWER_BOUND_X, UPPER_BOUND_X])\n",
    "        axis.set_ylim(bottom=lower_bound_y)\n",
    "        axis.legend(loc='lower left')\n",
    "        axis.set_title(f\"{isotope_data['label']} Production Cross Sections\")\n",
    "        axis.xaxis.set_major_locator(matplotlib.ticker.LogLocator(numticks=9))\n",
    "        axis.xaxis.set_minor_locator(matplotlib.ticker.LogLocator(subs='all', numticks=90))\n",
    "        axis.yaxis.set_major_locator(matplotlib.ticker.LogLocator(numticks=9))\n",
    "        axis.yaxis.set_minor_locator(matplotlib.ticker.LogLocator(subs='all', numticks=90))\n",
    "        \n",
    "        if (use_tex):\n",
    "            fig.savefig(f\"{figure_dir}/activation/cross_sections/{isotope}_production.pdf\",\n",
    "                        dpi=FIG_DPI)\n",
    "        else:\n",
    "            plt.show()\n",
    "\n",
    "    else:\n",
    "        plt.close(fig)"
   ]
  },
  {
   "cell_type": "markdown",
   "id": "described-import",
   "metadata": {
    "tags": []
   },
   "source": [
    "# Energy Spectra"
   ]
  },
  {
   "cell_type": "code",
   "execution_count": 11,
   "id": "lasting-neighborhood",
   "metadata": {},
   "outputs": [],
   "source": [
    "data_dir = \"/users/wctaylor/data/baccarat/wctaylor-5.2.7/decays/processed\"\n",
    "figure_dir = os.environ[\"FIGURE_DIR\"]\n",
    "spectrum_dir = os.environ[\"SPECTRUM_DATA_DIR\"]\n",
    "do_save = True\n",
    "\n",
    "ELECTRON_ID = 11\n",
    "GAMMA_ID = 22\n",
    "\n",
    "aliases = \\\n",
    "{\n",
    "    \"event_numbers\"     : \"iEventNumber\",\n",
    "    \"track_particle_ids\": \"tracks_iParticleID\",\n",
    "    \"track_processes\"   : \"tracks_sCreatorProcess\",\n",
    "    \"step_processes\"    : \"tracks_steps_sProcess\",\n",
    "    \"step_energy_keV\"   : \"tracks_steps_dParticleEnergy_keV\",\n",
    "    \"step_track_indices\": \"tracks_steps_iTrackArrayIndex\",\n",
    "    \"step_x_mm\"         : \"tracks_steps_dPosition_mm_x\",\n",
    "    \"step_y_mm\"         : \"tracks_steps_dPosition_mm_y\",\n",
    "    \"step_z_mm\"         : \"tracks_steps_dPosition_mm_z\",\n",
    "}\n",
    "\n",
    "fields = \\\n",
    "[\n",
    "    \"event_numbers\",\n",
    "    \"track_particle_ids\",\n",
    "    \"track_processes\",\n",
    "    \"step_processes\",\n",
    "    \"step_energy_keV\",\n",
    "    \"step_track_indices\",\n",
    "    \"step_x_mm\",\n",
    "    \"step_y_mm\",\n",
    "    \"step_z_mm\"\n",
    "]"
   ]
  },
  {
   "cell_type": "markdown",
   "id": "million-stephen",
   "metadata": {
    "jp-MarkdownHeadingCollapsed": true,
    "tags": []
   },
   "source": [
    "## Xe125"
   ]
  },
  {
   "cell_type": "code",
   "execution_count": 12,
   "id": "adolescent-nowhere",
   "metadata": {},
   "outputs": [],
   "source": [
    "isotope = \"Xe125\"\n",
    "CHANNELS = \\\n",
    "{\n",
    "    \"I[243 keV] + K-shell\": 243.382 + 33.1694,\n",
    "    \"I[243 keV] + L-shell\": 243.382 + 5.1881,\n",
    "    \"I[243 keV] + M-shell\": 243.382 + 1.0721,\n",
    "    \"I[188 keV] + K-shell\": 188.416 + 33.1694,\n",
    "    \"I[188 keV] + L-shell\": 188.416 + 5.1881,\n",
    "    \"I[188 keV] + M-shell\": 188.416 + 1.0721,\n",
    "    \"I[454 keV] + K-shell\": 453.792 + 33.1694,\n",
    "    \"I[454 keV] + L-shell\": 453.792 + 5.1881,\n",
    "    \"I[454 keV] + M-shell\": 453.792 + 1.0721,\n",
    "    \"I[372 keV] + K-shell\": 372.066 + 33.1694,\n",
    "    \"I[372 keV] + L-shell\": 372.066 + 5.1881,\n",
    "    \"I[372 keV] + M-shell\": 372.066 + 1.0721\n",
    "}"
   ]
  },
  {
   "cell_type": "code",
   "execution_count": 13,
   "id": "spatial-confusion",
   "metadata": {},
   "outputs": [],
   "source": [
    "spectrum_file = (thesis.isotopes.ISOTOPES[isotope]\n",
    "                 [\"processes\"][\"RadioactiveDecay\"]\n",
    "                 [\"children\"][\"I125\"][\"spectrum\"])\n",
    "filepath = f\"{spectrum_dir}/{spectrum_file}\"\n",
    "num_decays, E_flat = get_decay_spectrum(filepath, fields, aliases)"
   ]
  },
  {
   "cell_type": "code",
   "execution_count": 17,
   "id": "dress-filling",
   "metadata": {},
   "outputs": [
    {
     "name": "stdout",
     "output_type": "stream",
     "text": [
      "I[243 keV] + K-shell 0.5604592258135566\n",
      "I[243 keV] + L-shell 0.05308077749022631\n",
      "I[243 keV] + M-shell 0.020621111172292275\n",
      "I[188 keV] + K-shell 0.21507626232035681\n",
      "I[188 keV] + L-shell 0.019409724134133582\n",
      "I[188 keV] + M-shell 0.007929078795220527\n",
      "I[454 keV] + K-shell 0.040636528825505204\n",
      "I[454 keV] + L-shell 0.0035240350200980122\n",
      "I[454 keV] + M-shell 0.0014591707505093332\n",
      "I[372 keV] + K-shell 0.0003028467595396729\n"
     ]
    },
    {
     "data": {
      "image/png": "[encoded data removed]",
      "text/plain": [
       "<Figure size 432x432 with 1 Axes>"
      ]
     },
     "metadata": {
      "needs_background": "light"
     },
     "output_type": "display_data"
    }
   ],
   "source": [
    "bins = np.arange(0, 600, 1)\n",
    "bin_width = bins[1] - bins[0]\n",
    "\n",
    "handles = []\n",
    "fig, axes = plt.subplots(figsize=(6,6))\n",
    "for channel, energy in CHANNELS.items():\n",
    "    cut_channel_E = (E_flat > (energy - bin_width/2)) * (E_flat < (energy + bin_width/2))\n",
    "    if (np.any(cut_channel_E)):\n",
    "        print(channel, len(E_flat[cut_channel_E])/len(E_flat))\n",
    "        centers, counts, errors = thesis.analysis.hist(E_flat[cut_channel_E], \n",
    "                                                       bins=bins, \n",
    "                                                       scale_factor=1/num_decays)\n",
    "        if (do_save):\n",
    "            save_channel = channel.replace(\" \", \"_\")\n",
    "            with open(f\"{data_dir}/xe125_{save_channel}.npz\", \"wb\") as npz_file:\n",
    "                np.savez(npz_file, \n",
    "                         energy_keV=centers, \n",
    "                         counts_per_keV_per_decay=counts,\n",
    "                         errors=errors)\n",
    "            \n",
    "    else:\n",
    "        continue\n",
    "\n",
    "    plot, = axes.step(centers, counts, where=\"mid\", label=channel)\n",
    "    handles.append(plot)\n",
    "axes.set_yscale(\"log\")\n",
    "axes.set_xlabel(f\"Total Event Energy [keV]\\n\"\n",
    "                f\"Bin Width: {bin_width:.0f} keV\")\n",
    "axes.set_ylabel(\"Counts/keV/decay\")\n",
    "label = thesis.isotopes.ISOTOPES[isotope][\"label\"]\n",
    "axes.set_title(f\"Total Electron + Photon Energy from {label} Decay\")\n",
    "legend1 = axes.legend(handles=[handles[i] for i in range(0, len(handles)//2)],\n",
    "                      loc=\"upper right\")\n",
    "plt.gca().add_artist(legend1)\n",
    "legend2 = axes.legend(handles=[handles[i] for i in range(len(handles)//2, len(handles))],\n",
    "                      loc=\"lower left\")\n",
    "\n",
    "if (use_tex):\n",
    "    fig.savefig(f\"{figure_dir}/activation/energy_spectra/{isotope}_spectrum.pdf\",\n",
    "                dpi=FIG_DPI)\n",
    "else:\n",
    "    plt.show()"
   ]
  },
  {
   "cell_type": "markdown",
   "id": "competitive-tunisia",
   "metadata": {
    "heading_collapsed": "true",
    "jp-MarkdownHeadingCollapsed": true,
    "tags": []
   },
   "source": [
    "## I125"
   ]
  },
  {
   "cell_type": "code",
   "execution_count": 18,
   "id": "presidential-surrey",
   "metadata": {},
   "outputs": [],
   "source": [
    "isotope = \"I125\"\n",
    "CHANNELS = \\\n",
    "{\n",
    "    \"Te[35 keV] + K-shell\": 35.4925 + 31.8138,\n",
    "    \"Te[35 keV] + L-shell\": 35.4925 + 4.9392,\n",
    "    \"Te[35 keV] + M-shell\": 35.4925 + 1.0060,\n",
    "}"
   ]
  },
  {
   "cell_type": "code",
   "execution_count": 19,
   "id": "solved-person",
   "metadata": {},
   "outputs": [],
   "source": [
    "spectrum_file = (thesis.isotopes.ISOTOPES[isotope]\n",
    "                 [\"processes\"][\"RadioactiveDecay\"]\n",
    "                 [\"children\"][\"Te125\"][\"spectrum\"])\n",
    "filepath = f\"{spectrum_dir}/{spectrum_file}\"\n",
    "num_decays, E_flat = get_decay_spectrum(filepath, fields, aliases)"
   ]
  },
  {
   "cell_type": "code",
   "execution_count": 20,
   "id": "known-fantasy",
   "metadata": {},
   "outputs": [
    {
     "name": "stdout",
     "output_type": "stream",
     "text": [
      "Te[35 keV] + K-shell 0.8033900161559736\n",
      "Te[35 keV] + L-shell 0.1020016977463786\n",
      "Te[35 keV] + M-shell 0.04173170130616939\n"
     ]
    },
    {
     "data": {
      "image/png": "[encoded data removed]",
      "text/plain": [
       "<Figure size 432x432 with 1 Axes>"
      ]
     },
     "metadata": {
      "needs_background": "light"
     },
     "output_type": "display_data"
    }
   ],
   "source": [
    "bins = np.arange(0, 100, 1)\n",
    "bin_width = bins[1] - bins[0]\n",
    "\n",
    "handles = []\n",
    "fig, axes = plt.subplots(figsize=(6,6))\n",
    "for channel, energy in CHANNELS.items():\n",
    "    cut_channel_E = (E_flat > (energy - bin_width/2)) * (E_flat < (energy + bin_width/2))\n",
    "    if (np.any(cut_channel_E)):\n",
    "        print(channel, len(E_flat[cut_channel_E])/len(E_flat))\n",
    "        centers, counts, errors = thesis.analysis.hist(E_flat[cut_channel_E], \n",
    "                                                       bins=bins, \n",
    "                                                       scale_factor=1/num_decays)\n",
    "        if (do_save):\n",
    "            save_channel = channel.replace(\" \", \"_\")\n",
    "            with open(f\"{data_dir}/i125_{save_channel}.npz\", \"wb\") as npz_file:\n",
    "                np.savez(npz_file, \n",
    "                         energy_keV=centers, \n",
    "                         counts_per_keV_per_decay=counts,\n",
    "                         errors=errors)\n",
    "    else:\n",
    "        continue\n",
    "\n",
    "    plot, = axes.step(centers, counts, where=\"mid\", label=channel)\n",
    "    handles.append(plot)\n",
    "axes.set_yscale(\"log\")\n",
    "axes.set_xlabel(f\"Total Event Energy [keV]\\n\"\n",
    "                f\"Bin Width: {bin_width:.0f} keV\")\n",
    "axes.set_ylabel(\"Counts/keV/decay\")\n",
    "label = thesis.isotopes.ISOTOPES[isotope][\"label\"]\n",
    "axes.set_title(f\"Total Electron + Photon Energy from {label} Decay\")\n",
    "axes.legend()\n",
    "if (use_tex):\n",
    "    fig.savefig(f\"{figure_dir}/activation/energy_spectra/{isotope}_spectrum.pdf\",\n",
    "                dpi=FIG_DPI)\n",
    "else:\n",
    "    plt.show()\n"
   ]
  },
  {
   "cell_type": "markdown",
   "id": "monthly-navigator",
   "metadata": {
    "tags": []
   },
   "source": [
    "## Xe127"
   ]
  },
  {
   "cell_type": "code",
   "execution_count": 26,
   "id": "thorough-taste",
   "metadata": {},
   "outputs": [],
   "source": [
    "isotope = \"Xe127\"\n",
    "CHANNELS = \\\n",
    "{\n",
    "    \"I[203 keV] + K-shell\": 202.860 + 33.1694,\n",
    "    \"I[203 keV] + L-shell\": 202.860 + 5.1881,\n",
    "    \"I[203 keV] + M-shell\": 202.860 + 1.0721,\n",
    "    \"I[375 keV] + K-shell\": 374.992 + 33.1694,\n",
    "    \"I[375 keV] + L-shell\": 374.992 + 5.1881,\n",
    "    \"I[375 keV] + M-shell\": 374.992 + 1.0721,\n",
    "#     \"I[618 keV] + K-shell\": 618.4 + 33.1694,\n",
    "#     \"I[618 keV] + L-shell\": 618.4 + 5.1881,\n",
    "#     \"I[618 keV] + M-shell\": 618.4 + 1.0721\n",
    "}"
   ]
  },
  {
   "cell_type": "code",
   "execution_count": 29,
   "id": "biological-survey",
   "metadata": {},
   "outputs": [],
   "source": [
    "spectrum_file = (thesis.isotopes.ISOTOPES[isotope]\n",
    "                 [\"processes\"][\"RadioactiveDecay\"]\n",
    "                 [\"children\"][\"I127\"][\"spectrum\"])\n",
    "filepath = f\"{spectrum_dir}/{spectrum_file}\"\n",
    "num_decays, E_flat = get_decay_spectrum(filepath, fields, aliases)"
   ]
  },
  {
   "cell_type": "code",
   "execution_count": 30,
   "id": "successful-values",
   "metadata": {},
   "outputs": [
    {
     "name": "stdout",
     "output_type": "stream",
     "text": [
      "I[203 keV] + K-shell 0.44351314957816923\n",
      "I[203 keV] + L-shell 0.04333727225260381\n",
      "I[203 keV] + M-shell 0.01808238753469455\n",
      "I[375 keV] + K-shell 0.3922064360108824\n",
      "I[375 keV] + L-shell 0.04078155486548133\n",
      "I[375 keV] + M-shell 0.0176976558850202\n"
     ]
    },
    {
     "data": {
      "image/png": "[encoded data removed]",
      "text/plain": [
       "<Figure size 432x432 with 1 Axes>"
      ]
     },
     "metadata": {
      "needs_background": "light"
     },
     "output_type": "display_data"
    }
   ],
   "source": [
    "bins = np.arange(0, 600, 1)\n",
    "bin_width = bins[1] - bins[0]\n",
    "\n",
    "handles = []\n",
    "fig, axes = plt.subplots(figsize=(6,6))\n",
    "for channel, energy in CHANNELS.items():\n",
    "    cut_channel_E = (E_flat > (energy - bin_width/2)) * (E_flat < (energy + bin_width/2))\n",
    "    if (np.any(cut_channel_E)):\n",
    "        print(channel, len(E_flat[cut_channel_E])/len(E_flat))\n",
    "        centers, counts, errors = thesis.analysis.hist(E_flat[cut_channel_E], \n",
    "                                                       bins=bins, \n",
    "                                                       scale_factor=1/num_decays)\n",
    "    \n",
    "        if (do_save):\n",
    "                save_channel = channel.replace(\" \", \"_\")\n",
    "                with open(f\"{data_dir}/xe127_{save_channel}.npz\", \"wb\") as npz_file:\n",
    "                    np.savez(npz_file, \n",
    "                             energy_keV=centers, \n",
    "                             counts_per_keV_per_decay=counts,\n",
    "                             errors=errors)\n",
    "    else:\n",
    "        continue\n",
    "\n",
    "    plot, = axes.step(centers, counts, where=\"mid\", label=channel)\n",
    "    handles.append(plot)\n",
    "axes.set_yscale(\"log\")\n",
    "axes.set_xlabel(f\"Total Event Energy [keV]\\n\"\n",
    "                f\"Bin Width: {bin_width:.0f} keV\")\n",
    "axes.set_ylabel(\"Counts/keV/decay\")\n",
    "label = thesis.isotopes.ISOTOPES[isotope][\"label\"]\n",
    "axes.set_title(f\"Total Electron + Photon Energy from {label} Decay\")\n",
    "legend1 = axes.legend(handles=[handles[i] for i in range(0, len(handles)//2)],\n",
    "                      loc=\"center left\")\n",
    "plt.gca().add_artist(legend1)\n",
    "legend2 = axes.legend(handles=[handles[i] for i in range(len(handles)//2, len(handles))],\n",
    "                      loc=\"center right\")\n",
    "\n",
    "if (use_tex):\n",
    "    fig.savefig(f\"{figure_dir}/activation/energy_spectra/{isotope}_spectrum.pdf\",\n",
    "                dpi=FIG_DPI)\n",
    "else:\n",
    "    plt.show()"
   ]
  },
  {
   "cell_type": "markdown",
   "id": "awful-dealing",
   "metadata": {
    "tags": []
   },
   "source": [
    "## Xe129m"
   ]
  },
  {
   "cell_type": "code",
   "execution_count": 25,
   "id": "dress-defensive",
   "metadata": {},
   "outputs": [],
   "source": [
    "isotope = \"Xe129m\"\n",
    "CHANNELS = \\\n",
    "{\n",
    "    \"Xe[236]\": 236.14,\n",
    "}\n",
    "spectrum_file = thesis.isotopes.ISOTOPES[isotope][\"spectrum\"]\n",
    "filepath = f\"{spectrum_dir}/{spectrum_file}\"\n",
    "num_decays, E_flat = get_decay_spectrum(filepath, fields, aliases, \n",
    "                                        metastable=True)"
   ]
  },
  {
   "cell_type": "code",
   "execution_count": 28,
   "id": "authorized-meaning",
   "metadata": {},
   "outputs": [
    {
     "name": "stdout",
     "output_type": "stream",
     "text": [
      "Xe[236] 1.0\n"
     ]
    },
    {
     "data": {
      "image/png": "[encoded data removed]",
      "text/plain": [
       "<Figure size 432x432 with 1 Axes>"
      ]
     },
     "metadata": {
      "needs_background": "light"
     },
     "output_type": "display_data"
    }
   ],
   "source": [
    "bins = np.arange(0, 600, 1)\n",
    "bin_width = bins[1] - bins[0]\n",
    "\n",
    "handles = []\n",
    "fig, axes = plt.subplots(figsize=(6,6))\n",
    "for channel, energy in CHANNELS.items():\n",
    "    cut_channel_E = (E_flat > (energy - bin_width/2)) * (E_flat < (energy + bin_width/2))\n",
    "    if (np.any(cut_channel_E)):\n",
    "        print(channel, len(E_flat[cut_channel_E])/len(E_flat))\n",
    "        centers, counts, errors = myhist(E_flat[cut_channel_E], \n",
    "                                         bins=bins, scale_factor=1/num_decays)\n",
    "    else:\n",
    "        continue\n",
    "\n",
    "    plot, = axes.step(centers, counts, where=\"mid\", label=channel)\n",
    "    handles.append(plot)\n",
    "axes.set_yscale(\"log\")\n",
    "axes.set_xlabel(f\"Total Event Energy [keV]\\n\"\n",
    "                f\"Bin Width: {bin_width:.0f} keV\")\n",
    "axes.set_ylabel(\"Counts/keV/decay\")\n",
    "label = thesis.isotopes.ISOTOPES[isotope][\"label\"]\n",
    "axes.set_title(f\"Total Electron + Photon Energy from {label} Decay\")\n",
    "# legend1 = axes.legend(handles=[handles[i] for i in range(0, len(handles)//2)],\n",
    "#                       loc=\"center left\")\n",
    "# plt.gca().add_artist(legend1)\n",
    "# legend2 = axes.legend(handles=[handles[i] for i in range(len(handles)//2, len(handles))],\n",
    "#                       loc=\"center right\")\n",
    "fig.savefig(f\"{figure_dir}/chapter4/energy_spectra/{isotope}_spectrum.pdf\",\n",
    "                    dpi=FIG_DPI)\n",
    "plt.show()"
   ]
  },
  {
   "cell_type": "markdown",
   "id": "080e8034-b607-47b0-b0fb-ba986a54428b",
   "metadata": {
    "jp-MarkdownHeadingCollapsed": true,
    "tags": []
   },
   "source": [
    "## Xe131m"
   ]
  },
  {
   "cell_type": "code",
   "execution_count": 22,
   "id": "2bbdc2d6-5473-4740-b2be-c8a1c45caaf2",
   "metadata": {},
   "outputs": [],
   "source": [
    "isotope = \"Xe131m\"\n",
    "CHANNELS = \\\n",
    "{\n",
    "    \"Xe[164]\": 163.93,\n",
    "}\n",
    "spectrum_file = (thesis.isotopes.ISOTOPES[isotope]\n",
    "                 [\"processes\"][\"RadioactiveDecay\"]\n",
    "                 [\"children\"][\"Xe131\"][\"spectrum\"])\n",
    "filepath = f\"{spectrum_dir}/{spectrum_file}\"\n",
    "num_decays, E_flat = get_decay_spectrum(filepath, fields, aliases, \n",
    "                                        metastable=True)"
   ]
  },
  {
   "cell_type": "code",
   "execution_count": 25,
   "id": "75bd619e-1056-411a-a1c7-4eb6a7f01216",
   "metadata": {},
   "outputs": [
    {
     "name": "stdout",
     "output_type": "stream",
     "text": [
      "Xe[164] 1.0\n"
     ]
    }
   ],
   "source": [
    "bins = np.arange(0, 600, 1)\n",
    "bin_width = bins[1] - bins[0]\n",
    "\n",
    "handles = []\n",
    "fig, axes = plt.subplots(figsize=(6,6))\n",
    "for channel, energy in CHANNELS.items():\n",
    "    cut_channel_E = (E_flat > (energy - bin_width/2)) * (E_flat < (energy + bin_width/2))\n",
    "    if (np.any(cut_channel_E)):\n",
    "        print(channel, len(E_flat[cut_channel_E])/len(E_flat))\n",
    "        centers, counts, errors = ta.hist(E_flat[cut_channel_E], \n",
    "                                         bins=bins, scale_factor=1/num_decays)\n",
    "    else:\n",
    "        continue\n",
    "\n",
    "    plot, = axes.step(centers, counts, where=\"mid\", label=channel)\n",
    "    handles.append(plot)\n",
    "axes.set_yscale(\"log\")\n",
    "axes.set_xlabel(f\"Total Event Energy [keV]\\n\"\n",
    "                f\"Bin Width: {bin_width:.0f} keV\")\n",
    "axes.set_ylabel(\"Counts/keV/decay\")\n",
    "label = thesis.isotopes.ISOTOPES[isotope][\"label\"]\n",
    "axes.set_title(f\"Total Electron + Photon Energy from {label} Decay\")\n",
    "# legend1 = axes.legend(handles=[handles[i] for i in range(0, len(handles)//2)],\n",
    "#                       loc=\"center left\")\n",
    "# plt.gca().add_artist(legend1)\n",
    "# legend2 = axes.legend(handles=[handles[i] for i in range(len(handles)//2, len(handles))],\n",
    "#                       loc=\"center right\")\n",
    "fig.savefig(f\"{figure_dir}/activation/energy_spectra/{isotope}_spectrum.pdf\",\n",
    "                    dpi=FIG_DPI)\n",
    "plt.show()"
   ]
  },
  {
   "cell_type": "markdown",
   "id": "2c305388-a998-4c46-93dc-4fe6233c3d24",
   "metadata": {
    "jp-MarkdownHeadingCollapsed": true,
    "tags": []
   },
   "source": [
    "## Xe133"
   ]
  },
  {
   "cell_type": "code",
   "execution_count": 31,
   "id": "89d274d4-a706-451f-986a-086f6a7b84c7",
   "metadata": {},
   "outputs": [],
   "source": [
    "isotope = \"Xe133\"\n",
    "spectrum_file = (thesis.isotopes.ISOTOPES[isotope]\n",
    "                 [\"processes\"][\"RadioactiveDecay\"]\n",
    "                 [\"children\"][\"Cs133\"][\"spectrum\"])\n",
    "filepath = f\"{spectrum_dir}/{spectrum_file}\"\n",
    "num_decays, E_flat = get_decay_spectrum(filepath, fields, aliases, \n",
    "                                        metastable=False)"
   ]
  },
  {
   "cell_type": "code",
   "execution_count": 32,
   "id": "4cbba2d0-b1e7-49f5-84f2-34b3f8dfad36",
   "metadata": {},
   "outputs": [
    {
     "data": {
      "image/png": "[encoded data removed]",
      "text/plain": [
       "<Figure size 432x432 with 1 Axes>"
      ]
     },
     "metadata": {
      "needs_background": "light"
     },
     "output_type": "display_data"
    }
   ],
   "source": [
    "bins = np.arange(0, 600, 1)\n",
    "bin_width = bins[1] - bins[0]\n",
    "\n",
    "handles = []\n",
    "fig, axes = plt.subplots(figsize=(6,6))\n",
    "centers, counts, errors = ta.hist(E_flat, bins=bins, scale_factor=1/num_decays)\n",
    "\n",
    "if (do_save):\n",
    "    with open(f\"{data_dir}/xe133.npz\", \"wb\") as npz_file:\n",
    "        np.savez(npz_file, \n",
    "                 energy_keV=centers, \n",
    "                 counts_per_keV_per_decay=counts,\n",
    "                 errors=errors)\n",
    "\n",
    "plot, = axes.step(centers, counts, where=\"mid\")\n",
    "handles.append(plot)\n",
    "axes.set_yscale(\"log\")\n",
    "axes.set_xlabel(f\"Total Event Energy [keV]\\n\"\n",
    "                f\"Bin Width: {bin_width:.0f} keV\")\n",
    "axes.set_ylabel(\"Counts/keV/decay\")\n",
    "label = thesis.isotopes.ISOTOPES[isotope][\"label\"]\n",
    "axes.set_title(f\"Total Electron + Photon Energy from {label} Decay\")\n",
    "\n",
    "if (use_tex):\n",
    "    fig.savefig(f\"{figure_dir}/activation/energy_spectra/{isotope}_spectrum.pdf\",\n",
    "                dpi=FIG_DPI)\n",
    "else:\n",
    "    plt.show()"
   ]
  },
  {
   "cell_type": "markdown",
   "id": "4fcac9ae-88e2-48dc-95c5-47e04504ac92",
   "metadata": {
    "tags": []
   },
   "source": [
    "## Xe135"
   ]
  },
  {
   "cell_type": "code",
   "execution_count": 33,
   "id": "da898283-31e8-42f5-93b9-22822d19395e",
   "metadata": {},
   "outputs": [],
   "source": [
    "isotope = \"Xe135\"\n",
    "spectrum_file = (thesis.isotopes.ISOTOPES[isotope]\n",
    "                 [\"processes\"][\"RadioactiveDecay\"]\n",
    "                 [\"children\"][\"Cs135\"][\"spectrum\"])\n",
    "filepath = f\"{spectrum_dir}/{spectrum_file}\"\n",
    "num_decays, E_flat = get_decay_spectrum(filepath, fields, aliases, \n",
    "                                        metastable=False)"
   ]
  },
  {
   "cell_type": "code",
   "execution_count": 34,
   "id": "5591ff5a-51f8-473c-b9ac-0bc2bb7e64ce",
   "metadata": {},
   "outputs": [
    {
     "data": {
      "image/png": "[encoded data removed]",
      "text/plain": [
       "<Figure size 432x432 with 1 Axes>"
      ]
     },
     "metadata": {
      "needs_background": "light"
     },
     "output_type": "display_data"
    }
   ],
   "source": [
    "bins = np.arange(0, 1200, 1)\n",
    "bin_width = bins[1] - bins[0]\n",
    "\n",
    "handles = []\n",
    "fig, axes = plt.subplots(figsize=(6,6))\n",
    "centers, counts, errors = ta.hist(E_flat, bins=bins, scale_factor=1/num_decays)\n",
    "\n",
    "if (do_save):\n",
    "    with open(f\"{data_dir}/xe135.npz\", \"wb\") as npz_file:\n",
    "        np.savez(npz_file, \n",
    "                 energy_keV=centers, \n",
    "                 counts_per_keV_per_decay=counts,\n",
    "                 errors=errors)\n",
    "\n",
    "plot, = axes.step(centers, counts, where=\"mid\")\n",
    "handles.append(plot)\n",
    "axes.set_yscale(\"log\")\n",
    "axes.set_xlabel(f\"Total Event Energy [keV]\\n\"\n",
    "                f\"Bin Width: {bin_width:.0f} keV\")\n",
    "axes.set_ylabel(\"Counts/keV/decay\")\n",
    "label = thesis.isotopes.ISOTOPES[isotope][\"label\"]\n",
    "axes.set_title(f\"Total Electron + Photon Energy from {label} Decay\")\n",
    "\n",
    "if (use_tex):\n",
    "    fig.savefig(f\"{figure_dir}/activation/energy_spectra/{isotope}_spectrum.pdf\",\n",
    "                dpi=FIG_DPI)\n",
    "else:\n",
    "    plt.show()"
   ]
  },
  {
   "cell_type": "markdown",
   "id": "17768293-8e74-4792-ac5f-ceb2df8bd0e8",
   "metadata": {
    "tags": []
   },
   "source": [
    "## Cs135"
   ]
  },
  {
   "cell_type": "code",
   "execution_count": 35,
   "id": "6dcf3537-0947-4265-a75a-379914b1de47",
   "metadata": {},
   "outputs": [],
   "source": [
    "isotope = \"Cs135\"\n",
    "spectrum_file = (thesis.isotopes.ISOTOPES[isotope]\n",
    "                 [\"processes\"][\"RadioactiveDecay\"]\n",
    "                 [\"children\"][\"Ba135\"][\"spectrum\"])\n",
    "filepath = f\"{spectrum_dir}/{spectrum_file}\"\n",
    "num_decays, E_flat = get_decay_spectrum(filepath, fields, aliases, \n",
    "                                        metastable=False)"
   ]
  },
  {
   "cell_type": "code",
   "execution_count": 36,
   "id": "9b6d20a6-7455-4857-8ac0-a90d2a399c35",
   "metadata": {},
   "outputs": [
    {
     "data": {
      "image/png": "[encoded data removed]",
      "text/plain": [
       "<Figure size 432x432 with 1 Axes>"
      ]
     },
     "metadata": {
      "needs_background": "light"
     },
     "output_type": "display_data"
    }
   ],
   "source": [
    "bins = np.arange(0, 300, 1)\n",
    "bin_width = bins[1] - bins[0]\n",
    "\n",
    "handles = []\n",
    "fig, axes = plt.subplots(figsize=(6,6))\n",
    "centers, counts, errors = ta.hist(E_flat, bins=bins, scale_factor=1/num_decays)\n",
    "\n",
    "if (do_save):\n",
    "    with open(f\"{data_dir}/cs135.npz\", \"wb\") as npz_file:\n",
    "        np.savez(npz_file, \n",
    "                 energy_keV=centers, \n",
    "                 counts_per_keV_per_decay=counts,\n",
    "                 errors=errors)\n",
    "\n",
    "plot, = axes.step(centers, counts, where=\"mid\")\n",
    "handles.append(plot)\n",
    "axes.set_yscale(\"log\")\n",
    "axes.set_xlabel(f\"Total Event Energy [keV]\\n\"\n",
    "                f\"Bin Width: {bin_width:.0f} keV\")\n",
    "axes.set_ylabel(\"Counts/keV/decay\")\n",
    "label = thesis.isotopes.ISOTOPES[isotope][\"label\"]\n",
    "axes.set_title(f\"Total Electron + Photon Energy from {label} Decay\")\n",
    "\n",
    "if (use_tex):\n",
    "    fig.savefig(f\"{figure_dir}/activation/energy_spectra/{isotope}_spectrum.pdf\",\n",
    "                dpi=FIG_DPI)\n",
    "else:\n",
    "    plt.show()"
   ]
  },
  {
   "cell_type": "markdown",
   "id": "e6332de9-cd16-412a-a1bc-e9b2d3c01339",
   "metadata": {},
   "source": [
    "## Xe137"
   ]
  },
  {
   "cell_type": "code",
   "execution_count": 37,
   "id": "8425d123-17cb-430f-8467-f135279215d3",
   "metadata": {},
   "outputs": [],
   "source": [
    "isotope = \"Xe137\"\n",
    "spectrum_file = (thesis.isotopes.ISOTOPES[isotope]\n",
    "                 [\"processes\"][\"RadioactiveDecay\"]\n",
    "                 [\"children\"][\"Cs137\"][\"spectrum\"])\n",
    "filepath = f\"{spectrum_dir}/{spectrum_file}\"\n",
    "num_decays, E_flat = get_decay_spectrum(filepath, fields, aliases, \n",
    "                                        metastable=False)"
   ]
  },
  {
   "cell_type": "code",
   "execution_count": 38,
   "id": "57ef7e89-a6c7-466b-96cf-6e70c06b7499",
   "metadata": {},
   "outputs": [
    {
     "data": {
      "image/png": "[encoded data removed]",
      "text/plain": [
       "<Figure size 432x432 with 1 Axes>"
      ]
     },
     "metadata": {
      "needs_background": "light"
     },
     "output_type": "display_data"
    }
   ],
   "source": [
    "bins = np.arange(0, 4200, 10)\n",
    "bin_width = bins[1] - bins[0]\n",
    "\n",
    "handles = []\n",
    "fig, axes = plt.subplots(figsize=(6,6))\n",
    "centers, counts, errors = ta.hist(E_flat, bins=bins, scale_factor=1/num_decays)\n",
    "\n",
    "if (do_save):\n",
    "    with open(f\"{data_dir}/xe137.npz\", \"wb\") as npz_file:\n",
    "        np.savez(npz_file, \n",
    "                 energy_keV=centers, \n",
    "                 counts_per_keV_per_decay=counts,\n",
    "                 errors=errors)\n",
    "\n",
    "plot, = axes.step(centers, counts, where=\"mid\")\n",
    "handles.append(plot)\n",
    "axes.set_yscale(\"log\")\n",
    "# axes.set_ylim([1e-5,1e-3])\n",
    "axes.set_xlabel(f\"Total Event Energy [keV]\\n\"\n",
    "                f\"Bin Width: {bin_width:.0f} keV\")\n",
    "axes.set_ylabel(\"Counts/keV/decay\")\n",
    "label = thesis.isotopes.ISOTOPES[isotope][\"label\"]\n",
    "axes.set_title(f\"Total Electron + Photon Energy from {label} Decay\")\n",
    "\n",
    "if (use_tex):\n",
    "    fig.savefig(f\"{figure_dir}/activation/energy_spectra/{isotope}_spectrum.pdf\",\n",
    "                dpi=FIG_DPI)\n",
    "else:\n",
    "    plt.show()"
   ]
  },
  {
   "cell_type": "markdown",
   "id": "1ad4c660-9c5a-4781-8d0e-f34ed966728d",
   "metadata": {},
   "source": [
    "## Cs137"
   ]
  },
  {
   "cell_type": "code",
   "execution_count": 39,
   "id": "9dd94a88-392b-4524-b4f7-de3f267eccc9",
   "metadata": {},
   "outputs": [],
   "source": [
    "isotope = \"Cs137\"\n",
    "spectrum_file = (thesis.isotopes.ISOTOPES[isotope]\n",
    "                 [\"processes\"][\"RadioactiveDecay\"]\n",
    "                 [\"children\"][\"Ba137\"][\"spectrum\"])\n",
    "filepath = f\"{spectrum_dir}/{spectrum_file}\"\n",
    "num_decays, E_flat = get_decay_spectrum(filepath, fields, aliases, \n",
    "                                        metastable=False)"
   ]
  },
  {
   "cell_type": "code",
   "execution_count": 40,
   "id": "aceacdce-baf2-4433-af11-f2e820e1e562",
   "metadata": {},
   "outputs": [
    {
     "data": {
      "image/png": "[encoded data removed]",
      "text/plain": [
       "<Figure size 432x432 with 1 Axes>"
      ]
     },
     "metadata": {
      "needs_background": "light"
     },
     "output_type": "display_data"
    }
   ],
   "source": [
    "bins = np.arange(0, 1200, 5)\n",
    "bin_width = bins[1] - bins[0]\n",
    "\n",
    "handles = []\n",
    "fig, axes = plt.subplots(figsize=(6,6))\n",
    "centers, counts, errors = ta.hist(E_flat, bins=bins, scale_factor=1/num_decays)\n",
    "\n",
    "if (do_save):\n",
    "    with open(f\"{data_dir}/cs137.npz\", \"wb\") as npz_file:\n",
    "        np.savez(npz_file, \n",
    "                 energy_keV=centers, \n",
    "                 counts_per_keV_per_decay=counts,\n",
    "                 errors=errors)\n",
    "\n",
    "plot, = axes.step(centers, counts, where=\"mid\")\n",
    "handles.append(plot)\n",
    "axes.set_yscale(\"log\")\n",
    "axes.set_xlabel(f\"Total Event Energy [keV]\\n\"\n",
    "                f\"Bin Width: {bin_width:.0f} keV\")\n",
    "axes.set_ylabel(\"Counts/keV/decay\")\n",
    "label = thesis.isotopes.ISOTOPES[isotope][\"label\"]\n",
    "axes.set_title(f\"Total Electron + Photon Energy from {label} Decay\")\n",
    "\n",
    "if (use_tex):\n",
    "    fig.savefig(f\"{figure_dir}/activation/energy_spectra/{isotope}_spectrum.pdf\",\n",
    "                dpi=FIG_DPI)\n",
    "else:\n",
    "    plt.show()"
   ]
  }
 ],
 "metadata": {
  "kernelspec": {
   "display_name": "Python [conda env:analysis] *",
   "language": "python",
   "name": "conda-env-analysis-py"
  },
  "language_info": {
   "codemirror_mode": {
    "name": "ipython",
    "version": 3
   },
   "file_extension": ".py",
   "mimetype": "text/x-python",
   "name": "python",
   "nbconvert_exporter": "python",
   "pygments_lexer": "ipython3",
   "version": "3.10.0"
  }
 },
 "nbformat": 4,
 "nbformat_minor": 5
}
