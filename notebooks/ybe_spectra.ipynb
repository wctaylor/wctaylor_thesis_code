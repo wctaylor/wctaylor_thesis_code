{
 "cells": [
  {
   "cell_type": "code",
   "execution_count": 1,
   "id": "e45b7bb8-1caf-4f74-b348-670e487cbe02",
   "metadata": {},
   "outputs": [],
   "source": [
    "import os\n",
    "\n",
    "import uproot\n",
    "import numpy as np\n",
    "import awkward as ak\n",
    "import matplotlib.pyplot as plt\n",
    "\n",
    "import thesis.config"
   ]
  },
  {
   "cell_type": "code",
   "execution_count": 2,
   "id": "9848100f-7c03-420f-9db5-5e3fa612768f",
   "metadata": {},
   "outputs": [],
   "source": [
    "use_tex = False\n",
    "if (use_tex):\n",
    "    thesis.config.use_tex()\n",
    "else:\n",
    "    thesis.config.use_inline()\n",
    "config_file_path = \"/users/wctaylor/wctaylor_thesis_code/config/example_config.json\"\n",
    "thesis.config.config_env(config_file_path)"
   ]
  },
  {
   "cell_type": "code",
   "execution_count": 3,
   "id": "f26cb644-b6e3-4eb9-9a34-846adb464dd9",
   "metadata": {},
   "outputs": [
    {
     "data": {
      "image/png": "[encoded data removed]",
      "text/plain": [
       "<Figure size 432x432 with 1 Axes>"
      ]
     },
     "metadata": {
      "needs_background": "light"
     },
     "output_type": "display_data"
    }
   ],
   "source": [
    "FIG_DPI = 450\n",
    "figure_dir = os.environ[\"FIGURE_DIR\"]\n",
    "figure_dir = f\"{figure_dir}/activation/\"\n",
    "data_dir = \"/users/wctaylor/wctaylor_thesis_code/data/\"\n",
    "\n",
    "neutron_entry_spectrum_file = \"ybe_lxe_neutron_entry_spectrum_biekert.txt\"\n",
    "neutron_entry_data = np.loadtxt(f\"{data_dir}/{neutron_entry_spectrum_file}\",\n",
    "                                skiprows=1)\n",
    "bin_width = neutron_entry_data[1,0] - neutron_entry_data[0,0]\n",
    "\n",
    "fig, axis = plt.subplots(figsize=(6,6))\n",
    "axis.step(neutron_entry_data[:,0], neutron_entry_data[:,1])\n",
    "axis.set_xlabel(f\"Energy [keV]\\n\"\n",
    "                f\"Bin Width: {bin_width:.0f} keV\")\n",
    "axis.set_ylabel(\"Counts/keV/neutron\")\n",
    "# axis.set_xscale(\"log\")\n",
    "axis.set_yscale(\"log\")\n",
    "# axis.set_xlim([LOWER_BOUND_X, UPPER_BOUND_X])\n",
    "# axis.set_ylim(bottom=LOWER_BOUND_Y)\n",
    "# axis.legend(loc='upper left')\n",
    "axis.set_title(f\"LZ YBe Neutron LXe Entry Spectrum\")\n",
    "\n",
    "plt.show()"
   ]
  },
  {
   "cell_type": "code",
   "execution_count": 4,
   "id": "791f7ea9-0b93-49d5-bbdf-5bd5eef05651",
   "metadata": {},
   "outputs": [
    {
     "name": "stdout",
     "output_type": "stream",
     "text": [
      "LXe entry counts per neutron: 0.029\n",
      "LXe entry rate: 3.430 n/s\n",
      "Golden event rate: 0.002/s\n"
     ]
    }
   ],
   "source": [
    "counts_per_n = np.sum(neutron_entry_data[:,1]*bin_width)\n",
    "print(f\"LXe entry counts per neutron: {counts_per_n:0.3f}\")\n",
    "\n",
    "# From Andreas and Junsong\n",
    "# YBe source \"births\" 120 n/s total\n",
    "YBE_N_PER_S = 120\n",
    "print(f\"LXe entry rate: {YBE_N_PER_S*counts_per_n:0.3f} n/s\")\n",
    "\n",
    "# Also from Andreas and Junsong\n",
    "# 200 goldent events / 24 hours\n",
    "YBE_GOLDEN_RATE_PER_S = 200/24/3600 \n",
    "print(f\"Golden event rate: {YBE_GOLDEN_RATE_PER_S:.3f}/s\")"
   ]
  }
 ],
 "metadata": {
  "kernelspec": {
   "display_name": "Python [conda env:analysis] *",
   "language": "python",
   "name": "conda-env-analysis-py"
  },
  "language_info": {
   "codemirror_mode": {
    "name": "ipython",
    "version": 3
   },
   "file_extension": ".py",
   "mimetype": "text/x-python",
   "name": "python",
   "nbconvert_exporter": "python",
   "pygments_lexer": "ipython3",
   "version": "3.10.0"
  }
 },
 "nbformat": 4,
 "nbformat_minor": 5
}
